{
 "cells": [
  {
   "cell_type": "code",
   "execution_count": 1,
   "id": "939a0466",
   "metadata": {},
   "outputs": [
    {
     "name": "stdout",
     "output_type": "stream",
     "text": [
      "Enter a number between 1 to 100: 78\n",
      "Enter your name: gggghj\n",
      "Server Name: Server of gggghj 43\n",
      "Server generated number: 121\n"
     ]
    }
   ],
   "source": [
    "from socket import *\n",
    "\n",
    "server_address = (\"127.0.0.1\", 53535)\n",
    "client_socket = socket(AF_INET, SOCK_STREAM)\n",
    "client_socket.connect(server_address)\n",
    "\n",
    "n = 0\n",
    "\n",
    "while True:\n",
    "    n = int(input(\"Enter a number between 1 to 100: \"))\n",
    "    if n >= 1 and n <= 100:\n",
    "        break\n",
    "    else:\n",
    "        print(\"Invalid input! Please enter a number between 1 to 100.\")\n",
    "\n",
    "name = input(\"Enter your name: \")\n",
    "message = name + \",\" + str(n)\n",
    "\n",
    "client_socket.send(message.encode())\n",
    "\n",
    "response = client_socket.recv(2048).decode().strip().split(\",\")\n",
    "print(\"Server Name: \"+ response[0])\n",
    "print(\"Server generated number: \" + response[1])\n",
    "\n",
    "client_socket.close()"
   ]
  }
 ],
 "metadata": {
  "kernelspec": {
   "display_name": "Python 3 (ipykernel)",
   "language": "python",
   "name": "python3"
  },
  "language_info": {
   "codemirror_mode": {
    "name": "ipython",
    "version": 3
   },
   "file_extension": ".py",
   "mimetype": "text/x-python",
   "name": "python",
   "nbconvert_exporter": "python",
   "pygments_lexer": "ipython3",
   "version": "3.10.6"
  }
 },
 "nbformat": 4,
 "nbformat_minor": 5
}
