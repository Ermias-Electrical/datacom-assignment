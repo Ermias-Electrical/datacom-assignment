{
 "cells": [
  {
   "cell_type": "code",
   "execution_count": null,
   "id": "ba59b31a",
   "metadata": {},
   "outputs": [],
   "source": [
    "import socket\n",
    "import random\n",
    "\n",
    "server_address = (\"127.0.0.1\", 53535)\n",
    "\n",
    "sock = socket.socket(socket.AF_INET, socket.SOCK_STREAM)\n",
    "\n",
    "sock.bind(server_address)\n",
    "\n",
    "sock.listen(1)\n",
    "\n",
    "print(\"Server started......\")\n",
    "\n",
    "while True:\n",
    "    conn, client_address = sock.accept()\n",
    "    data = conn.recv(2048).decode().split(',')\n",
    "    print(\"Client Name: \", data[0])\n",
    "    print(\"Server name: \"+str(client_address))\n",
    "    \n",
    "    n = random.randint(1, 100)\n",
    "    sum_n = n + int(data[1])\n",
    "    message = \"Server of \" + data[0] +\" \"+ str(n) + \",\" + str(sum_n)\n",
    "    conn.sendall(message.encode())\n",
    "\n",
    "    conn.close()\n",
    "    "
   ]
  }
 ],
 "metadata": {
  "kernelspec": {
   "display_name": "Python 3 (ipykernel)",
   "language": "python",
   "name": "python3"
  },
  "language_info": {
   "codemirror_mode": {
    "name": "ipython",
    "version": 3
   },
   "file_extension": ".py",
   "mimetype": "text/x-python",
   "name": "python",
   "nbconvert_exporter": "python",
   "pygments_lexer": "ipython3",
   "version": "3.10.6"
  }
 },
 "nbformat": 4,
 "nbformat_minor": 5
}
